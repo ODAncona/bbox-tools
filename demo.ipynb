{
 "cells": [
  {
   "cell_type": "code",
   "execution_count": 5,
   "metadata": {},
   "outputs": [],
   "source": [
    "import bboxtools as bt\n",
    "\n",
    "file_path1 = './examples/example1.csv'\n",
    "file_path2 = './examples/example2.manifest'\n",
    "\n",
    "output = './examples/output/test1.csv'\n",
    "\n",
    "bbox_map = dict(\n",
    "    classname='class',\n",
    "    filename='name',\n",
    "    x_min='top_left_x',\n",
    "    y_min='top_left_y',\n",
    "    width='w',\n",
    "    height='h',\n",
    "    image_width='img_size_x',\n",
    "    image_height='img_size_y',\n",
    ")\n",
    "\n",
    "parser = bt.read_csv(file_path1, mapping=bbox_map)\n",
    "\n",
    "parser.export(output_path=output, format='yolo')\n",
    "#parser.to_csv(output_path=output, type='tlwh')"
   ]
  }
 ],
 "metadata": {
  "kernelspec": {
   "display_name": "ml",
   "language": "python",
   "name": "python3"
  },
  "language_info": {
   "codemirror_mode": {
    "name": "ipython",
    "version": 3
   },
   "file_extension": ".py",
   "mimetype": "text/x-python",
   "name": "python",
   "nbconvert_exporter": "python",
   "pygments_lexer": "ipython3",
   "version": "3.10.8"
  },
  "orig_nbformat": 4,
  "vscode": {
   "interpreter": {
    "hash": "abe3ec947f91e4c167de48be5c405fb55c4b01c302c0783c98c9642a1a72a6a3"
   }
  }
 },
 "nbformat": 4,
 "nbformat_minor": 2
}
