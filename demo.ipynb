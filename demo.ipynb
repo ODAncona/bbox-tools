{
 "cells": [
  {
   "cell_type": "code",
   "execution_count": 6,
   "metadata": {},
   "outputs": [],
   "source": [
    "import bboxtools as bt\n",
    "\n",
    "file_path1 = './examples/example1.csv'\n",
    "file_path2 = './examples/example2.manifest'\n",
    "\n",
    "output = './examples/output/test1.csv'\n",
    "\n",
    "bbox_map = dict(\n",
    "    classname='class',\n",
    "    filename='filename',\n",
    "    top_left_x='top_left_x',\n",
    "    top_left_y='top_left_y',\n",
    "    width='w',\n",
    "    height='h',\n",
    "    image_width='img_size_x',\n",
    "    image_height='img_size_y',\n",
    ")\n",
    "\n",
    "parser = bt.read_csv(file_path1, mapping=bbox_map)\n",
    "parser.export(output_path=output, format='yolo')"
   ]
  },
  {
   "cell_type": "code",
   "execution_count": 7,
   "metadata": {},
   "outputs": [
    {
     "data": {
      "text/plain": [
       "<module 'pandas' from '/home/olivier/.local/lib/python3.10/site-packages/pandas/__init__.py'>"
      ]
     },
     "execution_count": 7,
     "metadata": {},
     "output_type": "execute_result"
    }
   ],
   "source": [
    "import pandas as pd\n",
    "\n",
    "pd"
   ]
  }
 ],
 "metadata": {
  "kernelspec": {
   "display_name": "ml",
   "language": "python",
   "name": "python3"
  },
  "language_info": {
   "codemirror_mode": {
    "name": "ipython",
    "version": 3
   },
   "file_extension": ".py",
   "mimetype": "text/x-python",
   "name": "python",
   "nbconvert_exporter": "python",
   "pygments_lexer": "ipython3",
   "version": "3.10.8"
  },
  "orig_nbformat": 4,
  "vscode": {
   "interpreter": {
    "hash": "abe3ec947f91e4c167de48be5c405fb55c4b01c302c0783c98c9642a1a72a6a3"
   }
  }
 },
 "nbformat": 4,
 "nbformat_minor": 2
}
