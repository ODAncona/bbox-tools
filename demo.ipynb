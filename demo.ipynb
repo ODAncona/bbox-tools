{
 "cells": [
  {
   "attachments": {},
   "cell_type": "markdown",
   "metadata": {},
   "source": [
    "# Demo of bboxconverter\n",
    "\n",
    "This notebook demonstrates the use of the `bboxconverter` package.\n"
   ]
  },
  {
   "attachments": {},
   "cell_type": "markdown",
   "metadata": {},
   "source": [
    "## Converting bbox with a csv file\n",
    "\n",
    "In this example, we will convert a csv file containing bounding boxes in the format `tlwh` to `tlbr` and `cwh` formats.\n"
   ]
  },
  {
   "cell_type": "code",
   "execution_count": 2,
   "metadata": {},
   "outputs": [
    {
     "name": "stdout",
     "output_type": "stream",
     "text": [
      "File saved to ./examples/csv_convert/example1_tlbr.csv and ./examples/csv_convert/example1_cwh.csv\n"
     ]
    }
   ],
   "source": [
    "import bboxconverter as bc\n",
    "\n",
    "# Input file path\n",
    "input_path1 = './examples/csv_convert/example1_tlwh.csv'\n",
    "\n",
    "# Output file path\n",
    "output_tlbr = './examples/csv_convert/example1_tlbr.csv'\n",
    "output_cwh = './examples/csv_convert/example1_cwh.csv'\n",
    "\n",
    "# Mapping between the input file and the bboxconverter format\n",
    "bbox_map = dict(\n",
    "    class_name='class',\n",
    "    file_path='name',\n",
    "    x_min='top_left_x',\n",
    "    y_min='top_left_y',\n",
    "    width='w',\n",
    "    height='h',\n",
    "    image_width='img_size_x',\n",
    "    image_height='img_size_y',\n",
    ")\n",
    "\n",
    "# Read the input file\n",
    "parser = bc.read_csv(input_path1, mapping=bbox_map)\n",
    "\n",
    "# Export the file to the desired format\n",
    "parser.to_csv(output_path=output_tlbr, type='tlwh')\n",
    "parser.to_csv(output_path=output_cwh, type='tlwh')\n",
    "\n",
    "print(f\"File saved to {output_tlbr} and {output_cwh}\")\n"
   ]
  },
  {
   "attachments": {},
   "cell_type": "markdown",
   "metadata": {},
   "source": [
    "## Displaying bounding boxes\n",
    "\n",
    "In this section we will display bounding boxes on images using pycocotools package.\n"
   ]
  },
  {
   "cell_type": "code",
   "execution_count": null,
   "metadata": {},
   "outputs": [],
   "source": [
    "import skimage.io as io\n",
    "import matplotlib.pyplot as plt\n",
    "import numpy as np\n",
    "from pycocotools.coco import COCO\n",
    "\n",
    "# Load COCO annotations\n",
    "annFile = f'./examples/output/test2.json'\n",
    "coco = COCO(annFile)\n",
    "cats = coco.loadCats(coco.getCatIds())\n",
    "nms = [cat['name'] for cat in cats]\n",
    "print(f'COCO categories: \\n{\" \".join(nms)}\\n')\n",
    "\n",
    "# Get all images containing given categories, select one at random\n",
    "catIds = coco.getCatIds(catNms=['cat', 'dog'])\n",
    "imgIds = coco.getImgIds(catIds=catIds)\n",
    "img = coco.loadImgs(imgIds[np.random.randint(0, len(imgIds))])[0]\n",
    "\n",
    "# Load and display image\n",
    "I = io.imread(\n",
    "    f'examples/coco/images/{img[\"file_name\"].split(\"/\")[-1]}'\n",
    ")\n",
    "plt.imshow(I)\n",
    "plt.axis('off')\n",
    "annIds = coco.getAnnIds(imgIds=img['id'], catIds=catIds, iscrowd=None)\n",
    "anns = coco.loadAnns(annIds)\n",
    "coco.showAnns(anns, draw_bbox=True)\n"
   ]
  },
  {
   "cell_type": "code",
   "execution_count": null,
   "metadata": {},
   "outputs": [],
   "source": [
    "import skimage.io as io\n",
    "import matplotlib.pyplot as plt\n",
    "import numpy as np\n",
    "from pycocotools.coco import COCO\n",
    "\n",
    "# Load COCO annotations\n",
    "annFile = f'./examples/output/result.json'\n",
    "coco = COCO(annFile)\n",
    "cats = coco.loadCats(coco.getCatIds())\n",
    "nms = [cat['name'] for cat in cats]\n",
    "print(f'COCO categories: \\n{\" \".join(nms)}\\n')\n",
    "\n",
    "# Get all images containing given categories, select one at random\n",
    "catIds = coco.getCatIds(catNms=['cat', 'dog'])\n",
    "imgIds = coco.getImgIds(catIds=catIds)\n",
    "img = coco.loadImgs(imgIds[np.random.randint(0, len(imgIds))])[0]\n",
    "\n",
    "# Load and display image\n",
    "I = io.imread(\n",
    "    f'examples/coco/images/{img[\"file_name\"].split(\"/\")[-1]}'\n",
    ")\n",
    "plt.imshow(I)\n",
    "plt.axis('off')\n",
    "annIds = coco.getAnnIds(imgIds=img['id'], catIds=catIds, iscrowd=None)\n",
    "anns = coco.loadAnns(annIds)\n",
    "coco.showAnns(anns, draw_bbox=True)\n"
   ]
  }
 ],
 "metadata": {
  "kernelspec": {
   "display_name": "bboxtools",
   "language": "python",
   "name": "python3"
  },
  "language_info": {
   "codemirror_mode": {
    "name": "ipython",
    "version": 3
   },
   "file_extension": ".py",
   "mimetype": "text/x-python",
   "name": "python",
   "nbconvert_exporter": "python",
   "pygments_lexer": "ipython3",
   "version": "3.10.9"
  },
  "orig_nbformat": 4,
  "vscode": {
   "interpreter": {
    "hash": "a6209ea103903b26dcacd71217e096df352037933d491797c7ca69802f0ab47b"
   }
  }
 },
 "nbformat": 4,
 "nbformat_minor": 2
}
