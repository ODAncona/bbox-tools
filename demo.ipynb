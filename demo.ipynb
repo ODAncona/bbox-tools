{
 "cells": [
  {
   "cell_type": "code",
   "execution_count": 30,
   "metadata": {},
   "outputs": [],
   "source": [
    "import pandas as pd\n",
    "import json\n",
    "\n",
    "# Bounding Box Library\n",
    "from bbox import (BBox, TLBR_BBox, TLWH_BBox, CWH_BBox)\n",
    "\n",
    "FORMAT = ['voc', 'coco', 'yolo']\n",
    "\n",
    "\n",
    "class bbox_parser():\n",
    "\n",
    "    data: pd.DataFrame = None\n",
    "    bbox_type: str = None\n",
    "\n",
    "    def __init__(self) -> None:\n",
    "        self.data = pd.DataFrame()\n",
    "        pass\n",
    "\n",
    "    def read_manifest(self, path, format='auto') -> None:\n",
    "        print(\"Not Implemented\")\n",
    "        with open(path, 'r') as f:\n",
    "            for line in f:\n",
    "                json_obj = json.loads(line)\n",
    "                print(json_obj)\n",
    "                print(\"\\n\")\n",
    "        pass\n",
    "\n",
    "    def read_csv(self, path, mapping=None, kwargs={}) -> None:\n",
    "        # Parse data\n",
    "        self.data = pd.read_csv(path, **kwargs)\n",
    "\n",
    "        # Store them into bbox standard format\n",
    "        if mapping != None:\n",
    "            reversed_map = {value: key for key, value in mapping.items()}\n",
    "            self.data.columns = self.data.columns.map(reversed_map)\n",
    "\n",
    "        # Get bbox type\n",
    "        self.bbox_type = self.get_bbox_type()\n",
    "\n",
    "    def read_xml(self, path, mapping=None, kwargs={}) -> None:\n",
    "        print(\"Not Implemented\")\n",
    "        pass\n",
    "\n",
    "    def get_bbox_type(self) -> str:\n",
    "        bbox_types = [('center_x', 'center_y', 'width', 'height'),\n",
    "                      ('bottom_right_x', 'bottom_right_y', 'top_left_x',\n",
    "                       'top_left_y'),\n",
    "                      ('top_left_x', 'top_left_y', 'width', 'height')]\n",
    "        for bbox_type, cols in enumerate(bbox_types):\n",
    "            if all(col in self.data.columns for col in cols):\n",
    "                return ['cwh', 'tlbr', 'tlwh'][bbox_type]\n",
    "        return None\n",
    "\n",
    "    def create_bbox(self, bbox_type: str, **kwargs) -> BBox:\n",
    "        if bbox_type == 'tlbr':\n",
    "            return TLBR_BBox(**kwargs)\n",
    "        if bbox_type == 'tlwh':\n",
    "            return TLWH_BBox(**kwargs)\n",
    "        if bbox_type == 'cwh':\n",
    "            return CWH_BBox(**kwargs)\n",
    "        return None\n",
    "\n",
    "    def export(self, output_path, format: str) -> None:\n",
    "        assert self.bbox_type is not None\n",
    "\n",
    "        format_map = {\n",
    "            ('voc', 'tlwh'): TLBR_BBox.from_TLWH,\n",
    "            ('voc', 'cwh'): TLBR_BBox.from_CWH,\n",
    "            ('voc', 'tlbr'): True,\n",
    "            ('coco', 'tlbr'): TLWH_BBox.from_TLBR,\n",
    "            ('coco', 'cwh'): TLWH_BBox.from_CWH,\n",
    "            ('coco', 'tlwh'): True,\n",
    "            ('yolo', 'tlbr'): CWH_BBox.from_TLBR,\n",
    "            ('yolo', 'tlwh'): CWH_BBox.from_TLWH,\n",
    "            ('yolo', 'cwh'): True,\n",
    "        }\n",
    "\n",
    "        convert_func = format_map.get((format.lower(), self.bbox_type))\n",
    "\n",
    "        if convert_func is None:\n",
    "            raise ValueError(\n",
    "                f\"Invalid format: {format} for bbox_type: {self.bbox_type}\")\n",
    "\n",
    "        bboxes = self.data.apply(\n",
    "            lambda x: self.create_bbox(self.bbox_type, **x.to_dict()), axis=1)\n",
    "        bboxes = bboxes.apply(lambda x: convert_func(x).to_dict()\n",
    "                              if convert_func != True else x.to_dict())\n",
    "\n",
    "        out = pd.DataFrame.from_dict(bboxes.to_list())\n",
    "        out.to_csv(output_path, index=False)\n",
    "\n",
    "    def __str__(self) -> str:\n",
    "        return self.data.to_string()\n"
   ]
  },
  {
   "cell_type": "code",
   "execution_count": 31,
   "metadata": {},
   "outputs": [],
   "source": [
    "file_path1 = './examples/example1.csv'\n",
    "file_path2 = './examples/example2.manifest'\n",
    "\n",
    "output = './examples/output/test1.csv'\n",
    "\n",
    "parser = bbox_parser()\n",
    "\n",
    "bbox_map = dict(\n",
    "    classname='class',\n",
    "    filename='filename',\n",
    "    top_left_x='top_left_x',\n",
    "    top_left_y='top_left_y',\n",
    "    width='w',\n",
    "    height='h',\n",
    "    image_width='img_size_x',\n",
    "    image_height='img_size_y',\n",
    ")\n",
    "\n",
    "parser.read_csv(file_path1, mapping=bbox_map)\n",
    "parser.export(output_path=output, format='coco')\n",
    "\n"
   ]
  },
  {
   "cell_type": "code",
   "execution_count": 53,
   "metadata": {},
   "outputs": [
    {
     "name": "stdout",
     "output_type": "stream",
     "text": [
      "TLBR format: A car detected with 0.22 confidence in image test.jpg of size 1920 x 1080 1 3 5 1\n",
      "TLWH format: A car detected with 0.22 confidence in image test.jpg of size 1920 x 1080 1 3 4 2\n",
      "CWH format: A car detected with 0.22 confidence in image test.jpg of size 1920 x 1080 3 2 4 2\n",
      "_____________________TLBR_______________________\n",
      "TLBR format: A car detected with 0.22 confidence in image test.jpg of size 1920 x 1080 1 3 5 1\n",
      "TLBR format: A car detected with 0.22 confidence in image test.jpg of size 1920 x 1080 1 3 5 1\n",
      "_____________________TLWH___________________________\n",
      "TLWH format: A car detected with 0.22 confidence in image test.jpg of size 1920 x 1080 1 3 4 2\n",
      "TLWH format: A car detected with 0.22 confidence in image test.jpg of size 1920 x 1080 1 3 4 2\n",
      "______________________CWH____________________________\n",
      "CWH format: A car detected with None confidence in image test.jpg of size None x None 3 2 4 2\n",
      "CWH format: A car detected with None confidence in image test.jpg of size None x None 3 2 4 2\n"
     ]
    }
   ],
   "source": [
    "from bbox import BBox, TLBR_BBox, TLWH_BBox, CWH_BBox\n",
    "\n",
    "source_tlbr = TLBR_BBox(\"car\", \"test.jpg\", 1, 3, 5, 1, 0.22, 1920, 1080)\n",
    "source_tlwh = TLWH_BBox(\"car\", \"test.jpg\", 1, 3, 4, 2, 0.22, 1920, 1080)\n",
    "source_cwh = CWH_BBox(\"car\", \"test.jpg\", 3, 2, 4, 2, 0.22, 1920, 1080)\n",
    "\n",
    "print(source_tlbr)\n",
    "print(source_tlwh)\n",
    "print(source_cwh)\n",
    "\n",
    "print(\"_____________________TLBR_______________________\")\n",
    "\n",
    "# TLBR\n",
    "print(TLBR_BBox.from_TLWH(source_tlwh))\n",
    "print(TLBR_BBox.from_CWH(source_cwh))\n",
    "\n",
    "print(\"_____________________TLWH___________________________\")\n",
    "\n",
    "# TLWH\n",
    "print(TLWH_BBox.from_TLBR(source_tlbr))\n",
    "print(TLWH_BBox.from_CWH(source_cwh))\n",
    "\n",
    "print(\"______________________CWH____________________________\")\n",
    "\n",
    "# CWH\n",
    "print(CWH_BBox.from_TLBR(source_tlbr))\n",
    "print(CWH_BBox.from_TLWH(source_tlwh))\n"
   ]
  },
  {
   "cell_type": "code",
   "execution_count": 54,
   "metadata": {},
   "outputs": [
    {
     "data": {
      "text/plain": [
       "<module 'pandas' from '/home/olivier/.local/lib/python3.10/site-packages/pandas/__init__.py'>"
      ]
     },
     "execution_count": 54,
     "metadata": {},
     "output_type": "execute_result"
    }
   ],
   "source": [
    "import pandas as pd\n",
    "pd"
   ]
  }
 ],
 "metadata": {
  "kernelspec": {
   "display_name": "ml",
   "language": "python",
   "name": "python3"
  },
  "language_info": {
   "codemirror_mode": {
    "name": "ipython",
    "version": 3
   },
   "file_extension": ".py",
   "mimetype": "text/x-python",
   "name": "python",
   "nbconvert_exporter": "python",
   "pygments_lexer": "ipython3",
   "version": "3.10.8 (main, Nov 24 2022, 14:13:03) [GCC 11.2.0]"
  },
  "orig_nbformat": 4,
  "vscode": {
   "interpreter": {
    "hash": "abe3ec947f91e4c167de48be5c405fb55c4b01c302c0783c98c9642a1a72a6a3"
   }
  }
 },
 "nbformat": 4,
 "nbformat_minor": 2
}
